{
 "cells": [
  {
   "cell_type": "markdown",
   "metadata": {},
   "source": [
    "# Simple Class example \n",
    "Representation of a router in a python class :"
   ]
  },
  {
   "cell_type": "code",
   "execution_count": null,
   "metadata": {},
   "outputs": [],
   "source": [
    "from ipaddress import IPv4Address, IPv4Network\n",
    "from collections import OrderedDict\n",
    "\n",
    "\n",
    "class Interface(object):\n",
    "    def __init__(self, name, description, status, ip, connected_to):\n",
    "        self.name = name\n",
    "        self.description = description\n",
    "        self.status = status\n",
    "        self.ip = IPv4Address(ip)\n",
    "        self.connected_to = connected_to\n",
    "\n",
    "    def __str__(self):\n",
    "        txt = \"name : {} , description : {}, status : {}, ip : {}, connected_to : {} \".format(\n",
    "            self.name, self.description, self.status, str(self.ip), self.connected_to\n",
    "        )\n",
    "        return txt\n",
    "\n",
    "\n",
    "class Loopback(object):\n",
    "    def __init__(self, name, description, ip):\n",
    "        self.name = name\n",
    "        self.description = description\n",
    "        self.ip = ip\n",
    "\n",
    "\n",
    "class BgpConfig(object):\n",
    "    def __init__(self, router_id, router_ip, as_number, neighbors):\n",
    "        self.router_id = router_id\n",
    "        self.router_ip = router_ip\n",
    "        self.as_number = as_number\n",
    "        self.neighbors = neighbors\n",
    "\n",
    "\n",
    "class Router:\n",
    "    def __init__(self, name):\n",
    "        self.name = name\n",
    "        self.loopbacks = OrderedDict()\n",
    "        self.interfaces = OrderedDict()\n",
    "        self.bgps = OrderedDict()\n",
    "\n",
    "    def add_interface(self, interface):\n",
    "        self.interfaces[interface.name] = interface\n",
    "\n",
    "    def add_bgp_config(self, bgp_config):\n",
    "        self.bgps.append(bgp_config)\n",
    "\n",
    "    def print_interfaces(self):\n",
    "        for name, interface in self.interfaces.items():\n",
    "            print(interface)\n",
    "\n",
    "    def print_interfaces_name(self):\n",
    "        for name, interface in self.interfaces.items():\n",
    "            print(interface.name)\n"
   ]
  },
  {
   "cell_type": "code",
   "execution_count": null,
   "metadata": {},
   "outputs": [],
   "source": [
    "my_router = Router(\"PE1\")"
   ]
  },
  {
   "cell_type": "code",
   "execution_count": null,
   "metadata": {},
   "outputs": [],
   "source": [
    "print(my_router.name)"
   ]
  },
  {
   "cell_type": "code",
   "execution_count": null,
   "metadata": {},
   "outputs": [],
   "source": [
    "interface1 = Interface('GigabitEthernet0/1','interface description','down','192.168.1.1','PE1-interface2')"
   ]
  },
  {
   "cell_type": "code",
   "execution_count": null,
   "metadata": {},
   "outputs": [],
   "source": [
    "interface2 = Interface('GigabitEthernet0/2','interface description','up','192.168.1.2','PE1-interface1')"
   ]
  },
  {
   "cell_type": "code",
   "execution_count": null,
   "metadata": {},
   "outputs": [],
   "source": [
    "my_router.add_interface(interface1)"
   ]
  },
  {
   "cell_type": "code",
   "execution_count": null,
   "metadata": {},
   "outputs": [],
   "source": [
    "my_router.add_interface(interface2)"
   ]
  },
  {
   "cell_type": "code",
   "execution_count": null,
   "metadata": {},
   "outputs": [],
   "source": [
    "print(my_router.interfaces['GigabitEthernet0/2'])"
   ]
  },
  {
   "cell_type": "code",
   "execution_count": null,
   "metadata": {},
   "outputs": [],
   "source": [
    "print(my_router.interfaces)"
   ]
  },
  {
   "cell_type": "code",
   "execution_count": null,
   "metadata": {},
   "outputs": [],
   "source": [
    "my_router.print_interfaces()"
   ]
  },
  {
   "cell_type": "code",
   "execution_count": null,
   "metadata": {},
   "outputs": [],
   "source": [
    "my_router.print_interfaces_name()"
   ]
  },
  {
   "cell_type": "code",
   "execution_count": null,
   "metadata": {},
   "outputs": [],
   "source": [
    "my_router.interfaces['GigabitEthernet0/2'].ip.is_private"
   ]
  },
  {
   "cell_type": "code",
   "execution_count": null,
   "metadata": {},
   "outputs": [],
   "source": [
    "my_network = IPv4Network('192.168.42.0/28')\n",
    "print(my_network)"
   ]
  },
  {
   "cell_type": "code",
   "execution_count": null,
   "metadata": {},
   "outputs": [],
   "source": [
    "my_router.interfaces['GigabitEthernet0/2'].ip in my_network"
   ]
  }
 ],
 "metadata": {
  "kernelspec": {
   "display_name": "Python 3 (ipykernel)",
   "language": "python",
   "name": "python3"
  },
  "language_info": {
   "codemirror_mode": {
    "name": "ipython",
    "version": 3
   },
   "file_extension": ".py",
   "mimetype": "text/x-python",
   "name": "python",
   "nbconvert_exporter": "python",
   "pygments_lexer": "ipython3",
   "version": "3.9.7"
  }
 },
 "nbformat": 4,
 "nbformat_minor": 2
}
