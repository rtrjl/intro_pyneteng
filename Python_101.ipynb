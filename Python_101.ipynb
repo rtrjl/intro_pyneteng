{
 "cells": [
  {
   "cell_type": "markdown",
   "metadata": {},
   "source": [
    "## Basic Data Types\n",
    "\n",
    "| Python type() | Values (examples)           |\n",
    "|---------------|-----------------------------|\n",
    "| int           | -128, 0, 42                 |\n",
    "| float         | -1.12, 0, 3.1415            |\n",
    "| bool          | True, False                 |\n",
    "| str           | \"Hello\"                     |\n",
    "| bytes         | b\"Hello \\xf0\\x9f\\x98\\x8e\"   |\n"
   ]
  },
  {
   "cell_type": "code",
   "execution_count": null,
   "metadata": {
    "scrolled": true
   },
   "outputs": [],
   "source": [
    "type(3)"
   ]
  },
  {
   "cell_type": "code",
   "execution_count": null,
   "metadata": {
    "scrolled": false
   },
   "outputs": [],
   "source": [
    "type(1.4)"
   ]
  },
  {
   "cell_type": "code",
   "execution_count": null,
   "metadata": {
    "scrolled": true
   },
   "outputs": [],
   "source": [
    "type(True)"
   ]
  },
  {
   "cell_type": "code",
   "execution_count": null,
   "metadata": {
    "scrolled": true
   },
   "outputs": [],
   "source": [
    "type(\"Hello\")"
   ]
  },
  {
   "cell_type": "code",
   "execution_count": null,
   "metadata": {
    "scrolled": true
   },
   "outputs": [],
   "source": [
    "type(b\"Hello\")"
   ]
  },
  {
   "cell_type": "markdown",
   "metadata": {},
   "source": [
    "## Variables\n",
    "### Names\n",
    "\n",
    "- Cannot start with a number [0-9]\n",
    "- Cannot conflict with a language keyword.\n",
    "- Can contain [A-za-z0-9_-].\n",
    "- Recommandation for naming (variables, classes, function) can be found on PEP8.\n",
    "\n",
    "Created with the <span style=\"color:red\">=</span> assignement operator\n",
    "\n",
    "Can see list of variables in the current scope with dir()\n"
   ]
  },
  {
   "cell_type": "code",
   "execution_count": null,
   "metadata": {
    "scrolled": true
   },
   "outputs": [],
   "source": [
    "b=7\n",
    "c=3\n",
    "a = b+c\n",
    "a"
   ]
  },
  {
   "cell_type": "code",
   "execution_count": null,
   "metadata": {
    "scrolled": true
   },
   "outputs": [],
   "source": [
    "string_one = \"Foo\"\n",
    "string_two = \"Bar\"\n",
    "new_string = string_one + string_two\n",
    "new_string"
   ]
  },
  {
   "cell_type": "code",
   "execution_count": null,
   "metadata": {
    "scrolled": true
   },
   "outputs": [],
   "source": [
    "from keyword import kwlist\n",
    "for index, keyword in enumerate(kwlist):\n",
    "    print(\"{} : {}\".format(index,keyword))"
   ]
  },
  {
   "cell_type": "markdown",
   "metadata": {},
   "source": [
    "## In Python, eveything is an object\n",
    "\n",
    "Use <span style=\"color:red\">. (dot)</span> syntax to access \"things\" inside an object.\n",
    "\n",
    "### Terminology\n",
    "\n",
    "When contained inside an object, we call ...\n",
    "\n",
    "<span style=\"color:blue\">Variable</span> => <span style=\"color:green\">Attribute</span>\n",
    "\n",
    "<span style=\"color:blue\">Function</span> => <span style=\"color:green\">Method</span>\n",
    "\n",
    "Check an object's type with <span style=\"color:red\">type(</span>object<span style=\"color:red\">)</span>\n",
    "\n",
    "Look inside an object with <span style=\"color:red\">dir(</span>object<span style=\"color:red\">)</span>"
   ]
  },
  {
   "cell_type": "code",
   "execution_count": null,
   "metadata": {
    "scrolled": true
   },
   "outputs": [],
   "source": [
    "a = 57\n",
    "a.bit_length()"
   ]
  },
  {
   "cell_type": "code",
   "execution_count": null,
   "metadata": {
    "scrolled": true
   },
   "outputs": [],
   "source": [
    "\"WhO wRoTe THIs?\".lower()\n"
   ]
  },
  {
   "cell_type": "markdown",
   "metadata": {},
   "source": [
    "## Working with Strings\n",
    "\n",
    "### String Operations\n",
    "Contatenation: <span style=\"color:red\">+</span>\n",
    "Multiplication: <span style=\"color:red\">*</span>\n",
    "\n",
    "### Some Useful String Methods\n",
    "Composition: \"<span style=\"color:red\">{}</span>\"<span style=\"color:red\">.format()</span> {} = placeholder\n",
    "\n",
    "Splitting: \"\"<span style=\"color:red\">.split()</span>\n",
    "\n",
    "Joining: \"\"<span style=\"color:red\">.join()</span>\n"
   ]
  },
  {
   "cell_type": "code",
   "execution_count": null,
   "metadata": {
    "scrolled": true
   },
   "outputs": [],
   "source": [
    "\"One\"+\"Two\""
   ]
  },
  {
   "cell_type": "code",
   "execution_count": null,
   "metadata": {
    "scrolled": true
   },
   "outputs": [],
   "source": [
    "\"Abc\" * 3"
   ]
  },
  {
   "cell_type": "code",
   "execution_count": null,
   "metadata": {
    "scrolled": true
   },
   "outputs": [],
   "source": [
    "\"Hi my name is {}\". format(\"Chris\")"
   ]
  },
  {
   "cell_type": "code",
   "execution_count": null,
   "metadata": {
    "scrolled": true
   },
   "outputs": [],
   "source": [
    "\"a b c\".split()"
   ]
  },
  {
   "cell_type": "code",
   "execution_count": null,
   "metadata": {
    "scrolled": true
   },
   "outputs": [],
   "source": [
    "\",\".join(['a','b','c'])"
   ]
  },
  {
   "cell_type": "markdown",
   "metadata": {},
   "source": [
    "## Basic I/O\n",
    "### <span style=\"color:blue\">Get input with</span> <span style=\"color:red\">input()</span>\n",
    "\n",
    "- Pass it a prompt string\n",
    "- It will return the users input as a string\n",
    "- You con convert the returned string to th data tyoe you need int(),float(), etc.\n",
    "\n",
    "### <span style=\"color:blue\">Display Output with</span> <span style=\"color:red\">print()</span>\n",
    "\n",
    "- Can pass multiples values\n",
    "- It will concatenate those values with separators in between (default = spaces)\n",
    "- It will add (by default) a newline ('\\n') to the end"
   ]
  },
  {
   "cell_type": "code",
   "execution_count": null,
   "metadata": {
    "scrolled": true
   },
   "outputs": [],
   "source": [
    "print('a','b','c')"
   ]
  },
  {
   "cell_type": "code",
   "execution_count": null,
   "metadata": {
    "scrolled": true
   },
   "outputs": [],
   "source": [
    "i = input(\"Enter a Number : \")"
   ]
  },
  {
   "cell_type": "code",
   "execution_count": null,
   "metadata": {
    "scrolled": true
   },
   "outputs": [],
   "source": [
    "int(i)"
   ]
  },
  {
   "cell_type": "markdown",
   "metadata": {},
   "source": [
    "## Conditionals\n",
    "\n",
    "### Syntax:\n",
    "\n",
    "``` python\n",
    "if expression1:\n",
    "    statements\n",
    "elif expression2:\n",
    "    statements\n",
    "else:\n",
    "    statements` \n",
    "```\n",
    "\n",
    "- Indentation is important !\n",
    "- 4 spaces indent recommended\n",
    "- You can nest if statements\n",
    "\n",
    "### Comparison Operators:\n",
    "\n",
    "- Less than <span style=\"color:red\">&lt;</span>\n",
    "- Greater than <span style=\"color:red\">&gt;</span>\n",
    "- Less than or equal to <span style=\"color:red\">&lt;=</span>\n",
    "- Greater than or equal to <span style=\"color:red\">&gt;=</span>\n",
    "- Equal <span style=\"color:red\">==</span>\n",
    "- Not Equal <span style=\"color:red\">!=</span>\n",
    "- Contains element <span style=\"color:red\">in</span>\n",
    "\n",
    "Combine expressions with : <span style=\"color:red\">and</span>, <span style=\"color:red\">or</span>\n",
    "Negate with <span style=\"color:red\">not</span>\n",
    "    "
   ]
  },
  {
   "cell_type": "code",
   "execution_count": null,
   "metadata": {
    "scrolled": true
   },
   "outputs": [],
   "source": [
    "b=5\n",
    "if b < 0:\n",
    "    print(\"b is less than zero\")\n",
    "elif b == 0:\n",
    "    print(\"b is exactly zero\")\n",
    "elif b > 0:\n",
    "    print(\"b is greater than zero\")\n",
    "else:\n",
    "    print(\"b is something else\")"
   ]
  },
  {
   "cell_type": "code",
   "execution_count": null,
   "metadata": {
    "scrolled": true
   },
   "outputs": [],
   "source": [
    "words = \"Foo Bar\"\n",
    "if \"Bar\" in words:\n",
    "    print(\"words contains 'Bar'\")\n",
    "elif \"Foo\" in words:\n",
    "    print(\"words contains 'Foo'\")\n"
   ]
  },
  {
   "cell_type": "markdown",
   "metadata": {},
   "source": [
    "## Functions : Don't repeat yourself\n",
    "### Modularize your code\n",
    "- defining yout own Functions.\n",
    "- (optionnally) Receive arguments.\n",
    "- (optionnally) Return a value.\n",
    "### Syntax:\n",
    "\n",
    "<span style=\"color:red\">def function_name(arg_names):</span><br>\n",
    "&nbsp;&nbsp;&nbsp;&nbsp;<span style=\"color:gray\">statements</span><br>\n",
    "<span style=\"color:red\">&nbsp;&nbsp;&nbsp;&nbsp;return value</span><br>\n",
    "...<br>\n",
    "<span style=\"color:red\">function_name(arg_values)</span>\n"
   ]
  },
  {
   "cell_type": "code",
   "execution_count": null,
   "metadata": {
    "scrolled": true
   },
   "outputs": [],
   "source": [
    "def add(num1,num2):\n",
    "    result = num1+num2\n",
    "    return result\n",
    "\n",
    "add(3,5)"
   ]
  },
  {
   "cell_type": "code",
   "execution_count": null,
   "metadata": {
    "scrolled": true
   },
   "outputs": [],
   "source": [
    "def say_hello():\n",
    "    print(\"Hello!\")\n",
    "\n",
    "say_hello()\n"
   ]
  },
  {
   "cell_type": "markdown",
   "metadata": {},
   "source": [
    "## Python collection and loops\n",
    "### Data structures / Collection Data Types\n",
    "\n",
    "###  <span style=\"color:red\">list</span>\n",
    "- Ordered list of items\n",
    "- Items can be different data types\n",
    "- Can contain duplicate items\n",
    "- Mutables (can be changed after created)"
   ]
  },
  {
   "cell_type": "markdown",
   "metadata": {},
   "source": [
    "#### Creating"
   ]
  },
  {
   "cell_type": "code",
   "execution_count": null,
   "metadata": {
    "scrolled": true
   },
   "outputs": [],
   "source": [
    "my_list = ['a',1,18.2]\n",
    "print(my_list)"
   ]
  },
  {
   "cell_type": "code",
   "execution_count": null,
   "metadata": {
    "scrolled": true
   },
   "outputs": [],
   "source": [
    "print(type(my_list))"
   ]
  },
  {
   "cell_type": "markdown",
   "metadata": {},
   "source": [
    "#### Accessing"
   ]
  },
  {
   "cell_type": "code",
   "execution_count": null,
   "metadata": {
    "scrolled": true
   },
   "outputs": [],
   "source": [
    "my_list[2]"
   ]
  },
  {
   "cell_type": "markdown",
   "metadata": {},
   "source": [
    "#### Updating"
   ]
  },
  {
   "cell_type": "code",
   "execution_count": null,
   "metadata": {
    "scrolled": true
   },
   "outputs": [],
   "source": [
    "my_list[2] = 20.4\n",
    "print(my_list)"
   ]
  },
  {
   "cell_type": "markdown",
   "metadata": {},
   "source": [
    "### <span style=\"color:red\">tuple</span>\n",
    "- Just like a list; except:\n",
    "- Immutable (cannot be changed)"
   ]
  },
  {
   "cell_type": "markdown",
   "metadata": {},
   "source": [
    "#### Creating"
   ]
  },
  {
   "cell_type": "code",
   "execution_count": null,
   "metadata": {
    "scrolled": true
   },
   "outputs": [],
   "source": [
    "my_tuple = ('a',1,18.2)\n",
    "print(my_tuple)"
   ]
  },
  {
   "cell_type": "code",
   "execution_count": null,
   "metadata": {
    "scrolled": true
   },
   "outputs": [],
   "source": [
    "print(type(my_tuple))"
   ]
  },
  {
   "cell_type": "markdown",
   "metadata": {},
   "source": [
    "#### Accessing"
   ]
  },
  {
   "cell_type": "code",
   "execution_count": null,
   "metadata": {
    "scrolled": true
   },
   "outputs": [],
   "source": [
    "my_tuple[0]"
   ]
  },
  {
   "cell_type": "markdown",
   "metadata": {},
   "source": [
    "#### Updating\n",
    "You cannot update tuples after they have been created.\n",
    "So an error is raised."
   ]
  },
  {
   "cell_type": "code",
   "execution_count": null,
   "metadata": {
    "scrolled": true
   },
   "outputs": [],
   "source": [
    "my_tuple[0] = \"b\""
   ]
  },
  {
   "cell_type": "markdown",
   "metadata": {},
   "source": [
    "###  <span style=\"color:red\">dict</span>\n",
    "- Unordered key-value pairs\n",
    "- Keys are unique; must be immutable\n",
    "- Keys don't have to be the same data type\n",
    "- Values may be any data type"
   ]
  },
  {
   "cell_type": "markdown",
   "metadata": {},
   "source": [
    "#### Creating"
   ]
  },
  {
   "cell_type": "code",
   "execution_count": null,
   "metadata": {
    "scrolled": true
   },
   "outputs": [],
   "source": [
    "my_dict = {\"apples\":5,\"pears\":2,\"oranges\":9}\n",
    "print(my_dict)"
   ]
  },
  {
   "cell_type": "code",
   "execution_count": null,
   "metadata": {
    "scrolled": true
   },
   "outputs": [],
   "source": [
    "print(type(my_dict))"
   ]
  },
  {
   "cell_type": "markdown",
   "metadata": {},
   "source": [
    "#### Accessing"
   ]
  },
  {
   "cell_type": "code",
   "execution_count": null,
   "metadata": {
    "scrolled": true
   },
   "outputs": [],
   "source": [
    "my_dict[\"pears\"]"
   ]
  },
  {
   "cell_type": "markdown",
   "metadata": {},
   "source": [
    "#### Updating"
   ]
  },
  {
   "cell_type": "code",
   "execution_count": null,
   "metadata": {
    "scrolled": true
   },
   "outputs": [],
   "source": [
    "my_dict[\"pears\"] = 6\n",
    "print(my_dict)"
   ]
  },
  {
   "cell_type": "markdown",
   "metadata": {},
   "source": [
    "#### Dictionary Methods\n",
    "\n",
    "Some useful dictionary methods:\n",
    "\n",
    "- {}<span style=\"color:red\">.items()</span>\n",
    "- {}<span style=\"color:red\">.keys()</span>\n",
    "- {}<span style=\"color:red\">.values()</span>"
   ]
  },
  {
   "cell_type": "code",
   "execution_count": null,
   "metadata": {
    "scrolled": true
   },
   "outputs": [],
   "source": [
    "my_dict.items()"
   ]
  },
  {
   "cell_type": "code",
   "execution_count": null,
   "metadata": {
    "scrolled": true
   },
   "outputs": [],
   "source": [
    "my_dict.keys()"
   ]
  },
  {
   "cell_type": "code",
   "execution_count": null,
   "metadata": {
    "scrolled": true
   },
   "outputs": [],
   "source": [
    "my_dict.values()"
   ]
  },
  {
   "cell_type": "markdown",
   "metadata": {},
   "source": [
    "## Loops\n",
    "### Iterative Loops\n",
    "<span style=\"color:red\">for *individual_item* in _iterator_:</span><br>\n",
    "<span style=\"color:gray\">&nbsp;&nbsp;&nbsp;&nbsp;statements...</span>\n"
   ]
  },
  {
   "cell_type": "code",
   "execution_count": null,
   "metadata": {
    "scrolled": true
   },
   "outputs": [],
   "source": [
    "interfaces_list = [\"Te0/0/0/0\",\"Te0/1/0/8\",\"Te0/4/0/2/2\"]\n",
    "for interface in interfaces_list:\n",
    "    print(interface)"
   ]
  },
  {
   "cell_type": "markdown",
   "metadata": {},
   "source": [
    "### Conditional Loops\n",
    "<span style=\"color:red\">while *logical_expression* :</span><br>\n",
    "<span style=\"color:gray\">&nbsp;&nbsp;&nbsp;&nbsp;statements...</span>"
   ]
  },
  {
   "cell_type": "code",
   "execution_count": null,
   "metadata": {
    "scrolled": true
   },
   "outputs": [],
   "source": [
    "i=0\n",
    "while i < 5:\n",
    "    print(i)\n",
    "    i +=1"
   ]
  },
  {
   "cell_type": "markdown",
   "metadata": {},
   "source": [
    "## Iterating through a Dictionnary\n",
    "\n",
    "- Use the dictionnary <span style=\"color:red\">.items()</span> method.\n",
    "- <span style=\"color:red\">Unpack each tuple</span> into variable names of your choice to use within your block statements."
   ]
  },
  {
   "cell_type": "code",
   "execution_count": null,
   "metadata": {
    "scrolled": true
   },
   "outputs": [],
   "source": [
    "for fruit, quantity in my_dict.items(): # method items() return (key, value) tuple unpacked to fruit and quantity\n",
    "    print(\"You have {} {}.\".format(quantity,fruit))"
   ]
  },
  {
   "cell_type": "markdown",
   "metadata": {},
   "source": [
    "## Casting\n",
    "\n",
    "Casting is the operation of converting from a data type to another.\n",
    "\n",
    "### Example\n",
    "Imagine we have those lines to parse in order to know the number of isis neighbors :"
   ]
  },
  {
   "cell_type": "code",
   "execution_count": null,
   "metadata": {},
   "outputs": [],
   "source": [
    "cli_return = \"\"\"\n",
    "RP/0/RP0/CPU0:Napoli-50#show isis neighbors Hu0/3/0/0\n",
    "Thu Mar 14 10:58:22.814 PLL\n",
    "\n",
    "IS-IS core neighbors:\n",
    "System Id      Interface        SNPA           State Holdtime Type IETF-NSF\n",
    "London-20      Hu0/3/0/0        *PtoP*         Up    25       L2   Capable\n",
    "\n",
    "Total neighbor count: 1\n",
    "\"\"\""
   ]
  },
  {
   "cell_type": "markdown",
   "metadata": {},
   "source": [
    "To get the count we split the cli return on \":\", the count will be the last element of the returned list."
   ]
  },
  {
   "cell_type": "code",
   "execution_count": null,
   "metadata": {},
   "outputs": [],
   "source": [
    "splitted_cli = cli_return.split(\":\")\n",
    "print(splitted_cli)"
   ]
  },
  {
   "cell_type": "code",
   "execution_count": null,
   "metadata": {},
   "outputs": [],
   "source": [
    "count = splitted_cli[-1] # -1 on the index is the python way to get the last item of a list\n",
    "count = count.strip()   # strip method on str remove all invisibles characters before first visible character and \n",
    "                        # after last visible character.\n",
    "print(\"Type of count variable :  {},  value : {} \".format(type(count),count))\n"
   ]
  },
  {
   "cell_type": "markdown",
   "metadata": {},
   "source": [
    "At this step we have the information we need. \n",
    "\n",
    "But if we try to compare it, for example to see if count is bigger than 0 it raise an error :"
   ]
  },
  {
   "cell_type": "code",
   "execution_count": null,
   "metadata": {},
   "outputs": [],
   "source": [
    "if count > 0 :\n",
    "    print(\"OK\")\n",
    "else:\n",
    "    print(\"Alarm\")"
   ]
  },
  {
   "cell_type": "markdown",
   "metadata": {},
   "source": [
    "It's because we can compare different types.\n",
    "\n",
    "We need to translate the string representation of 1 into the int representation of 1.\n",
    "\n",
    "This operation is called <span style=\"color:red\">casting</span>.\n",
    "We call the built-in funtion int() on the string."
   ]
  },
  {
   "cell_type": "code",
   "execution_count": null,
   "metadata": {},
   "outputs": [],
   "source": [
    "count = int(count)\n",
    "print(type(count))"
   ]
  },
  {
   "cell_type": "markdown",
   "metadata": {},
   "source": [
    "And the same code which was raising an error now works :"
   ]
  },
  {
   "cell_type": "code",
   "execution_count": null,
   "metadata": {},
   "outputs": [],
   "source": [
    "if count > 0 :\n",
    "    print(\"OK\")\n",
    "else:\n",
    "    print(\"Alarm\")"
   ]
  },
  {
   "cell_type": "markdown",
   "metadata": {},
   "source": [
    "If you encounter a <span style=\"color:red\">TypeError</span> exception , think of <span style=\"color:red\">casting.</span>\n",
    "\n",
    "Others cast examples :"
   ]
  },
  {
   "cell_type": "code",
   "execution_count": null,
   "metadata": {},
   "outputs": [],
   "source": [
    "int(\"3\")"
   ]
  },
  {
   "cell_type": "code",
   "execution_count": null,
   "metadata": {},
   "outputs": [],
   "source": [
    "str(3)"
   ]
  },
  {
   "cell_type": "code",
   "execution_count": null,
   "metadata": {},
   "outputs": [],
   "source": [
    "float(\"3.14\")"
   ]
  },
  {
   "cell_type": "code",
   "execution_count": null,
   "metadata": {},
   "outputs": [],
   "source": [
    "int(float(\"3.14\"))"
   ]
  },
  {
   "cell_type": "code",
   "execution_count": null,
   "metadata": {},
   "outputs": [],
   "source": [
    "str(int(float(\"3.14\")))"
   ]
  },
  {
   "cell_type": "markdown",
   "metadata": {},
   "source": [
    "Python format function on string cast for you :"
   ]
  },
  {
   "cell_type": "code",
   "execution_count": null,
   "metadata": {},
   "outputs": [],
   "source": [
    "\"pi : {}\".format(3.14)"
   ]
  },
  {
   "cell_type": "markdown",
   "metadata": {},
   "source": [
    "## Slicing\n",
    "### Slice for accessing a subset of list, str ..."
   ]
  },
  {
   "cell_type": "code",
   "execution_count": null,
   "metadata": {
    "scrolled": true
   },
   "outputs": [],
   "source": [
    "letters_list = ['a','b','c','d','e','f','g','h']"
   ]
  },
  {
   "cell_type": "code",
   "execution_count": null,
   "metadata": {
    "scrolled": true
   },
   "outputs": [],
   "source": [
    "letters_list[:]"
   ]
  },
  {
   "cell_type": "code",
   "execution_count": null,
   "metadata": {
    "scrolled": true
   },
   "outputs": [],
   "source": [
    "letters_list[:5]"
   ]
  },
  {
   "cell_type": "code",
   "execution_count": null,
   "metadata": {
    "scrolled": true
   },
   "outputs": [],
   "source": [
    "letters_list[:-1]"
   ]
  },
  {
   "cell_type": "code",
   "execution_count": null,
   "metadata": {
    "scrolled": true
   },
   "outputs": [],
   "source": [
    "letters_list[4:]"
   ]
  },
  {
   "cell_type": "code",
   "execution_count": null,
   "metadata": {
    "scrolled": true
   },
   "outputs": [],
   "source": [
    "letters_list[-3:]"
   ]
  },
  {
   "cell_type": "code",
   "execution_count": null,
   "metadata": {
    "scrolled": true
   },
   "outputs": [],
   "source": [
    "letters_list[2:5]"
   ]
  },
  {
   "cell_type": "code",
   "execution_count": null,
   "metadata": {
    "scrolled": true
   },
   "outputs": [],
   "source": [
    "letters_list[2:-1]"
   ]
  },
  {
   "cell_type": "code",
   "execution_count": null,
   "metadata": {
    "scrolled": true
   },
   "outputs": [],
   "source": [
    "letters_list[-3:-1]"
   ]
  },
  {
   "cell_type": "code",
   "execution_count": null,
   "metadata": {
    "scrolled": true
   },
   "outputs": [],
   "source": [
    "my_string = \"Cisco IOS XR Software, Version 6.5.1\"\n",
    "\n",
    "software_family = my_string[10:12]\n",
    "print(software_family)"
   ]
  },
  {
   "cell_type": "code",
   "execution_count": null,
   "metadata": {
    "scrolled": true
   },
   "outputs": [],
   "source": [
    "software_version = my_string[31:]# for example, for production use regex instead or a regex based tool like textFSM.\n",
    "print(software_version) "
   ]
  },
  {
   "cell_type": "markdown",
   "metadata": {},
   "source": [
    "## List Comprehension\n",
    "Syntax <span style=\"color:red\">[</span> <span style=\"color:gray\">*expression*</span> <span style=\"color:red\">for</span> <span style=\"color:gray\">*item*</span> <span style=\"color:red\">in</span> <span style=\"color:gray\">*list*</span> <span style=\"color:red\">if</span> <span style=\"color:gray\">*conditional*</span> <span style=\"color:red\">]</span> return a list.\n",
    "\n",
    "Useful for filtering.\n",
    "### Traditional way :"
   ]
  },
  {
   "cell_type": "code",
   "execution_count": null,
   "metadata": {
    "scrolled": true
   },
   "outputs": [],
   "source": [
    "interfaces_list = [\"Hu0/3/0/0\",\"Hu0/3/0/1\",\"Hu0/3/0/2\",\"Hu0/3/0/2.66\",\"Hu0/3/0/3\",\"Hu0/3/0/4\",\"Hu0/3/0/4.1\"]\n",
    "new_list = list()\n",
    "for item in interfaces_list:\n",
    "    if not '.' in item:\n",
    "        new_list.append(item)\n",
    "\n",
    "print(new_list)"
   ]
  },
  {
   "cell_type": "markdown",
   "metadata": {},
   "source": [
    "### With list comprehension :"
   ]
  },
  {
   "cell_type": "code",
   "execution_count": null,
   "metadata": {
    "scrolled": true
   },
   "outputs": [],
   "source": [
    "interfaces_list = [\"Hu0/3/0/0\",\"Hu0/3/0/1\",\"Hu0/3/0/2\",\"Hu0/3/0/2.66\",\"Hu0/3/0/3\",\"Hu0/3/0/4\",\"Hu0/3/0/4.1\"]\n",
    "\n",
    "print(\"interfaces : {} \".format(interfaces_list))\n",
    "\n",
    "physical_interfaces = [interface for interface in interfaces_list if \".\" not in interface]\n",
    "\n",
    "print(\"physical interfaces : {} \".format(physical_interfaces))\n",
    "\n",
    "virtual_interfaces = [interface for interface in interfaces_list if \".\" in interface]\n",
    "\n",
    "print(\"virtual interfaces : {} \".format(virtual_interfaces))"
   ]
  },
  {
   "cell_type": "markdown",
   "metadata": {},
   "source": [
    "#### Advantages :\n",
    "- more concise code : 3 lines => 1 line\n",
    "- faster to execute (doesn't call append at each iteration)"
   ]
  },
  {
   "cell_type": "code",
   "execution_count": null,
   "metadata": {},
   "outputs": [],
   "source": []
  }
 ],
 "metadata": {
  "kernelspec": {
   "display_name": "Python 3 (ipykernel)",
   "language": "python",
   "name": "python3"
  },
  "language_info": {
   "codemirror_mode": {
    "name": "ipython",
    "version": 3
   },
   "file_extension": ".py",
   "mimetype": "text/x-python",
   "name": "python",
   "nbconvert_exporter": "python",
   "pygments_lexer": "ipython3",
   "version": "3.9.7"
  }
 },
 "nbformat": 4,
 "nbformat_minor": 2
}
