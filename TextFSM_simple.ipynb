{
 "cells": [
  {
   "cell_type": "markdown",
   "metadata": {},
   "source": [
    "# Parsing with TextFSM\n",
    "A regular expression template based parser, wich return structured data from CLI output.  \n",
    "https://github.com/google/textfsm\n"
   ]
  },
  {
   "cell_type": "markdown",
   "metadata": {},
   "source": [
    "## Parsing a show command\n",
    "Let's get some structured data from CLI output of the\"show interface description\" command.\n",
    "\n",
    "This is an extract of what we get from the output :\n"
   ]
  },
  {
   "cell_type": "markdown",
   "metadata": {},
   "source": [
    "`\n",
    "Hu0/0/0/21/0       admin-down  admin-down\n",
    "Te0/0/0/0          admin-down  admin-down\n",
    "Te0/0/0/1          up          up          Connected with ANT - to AMALFI\n",
    "Te0/0/0/2          up          up          Connected with ANT\n",
    "Te0/0/0/3          up          up\n",
    "Te0/0/0/4          admin-down  admin-down\n",
    "Te0/0/0/5          up          up          Link to Bologna 0/1/0/5\n",
    "Te0/0/0/6          admin-down  admin-down\n",
    "Te0/0/0/7          up          up          to Honfleur tenG7\n",
    "Te0/0/0/8          up          up\n",
    "Te0/0/0/9          up          up\n",
    "Te0/0/0/10         up          up          to Bologna int teng10\n",
    "Te0/0/0/11         admin-down  admin-down\n",
    "Te0/0/0/12         admin-down  admin-down\n",
    "Te0/0/0/13         admin-down  admin-down\n",
    "Te0/0/0/14         admin-down  admin-down\n",
    "Te0/0/0/15         admin-down  admin-down\n",
    "Te0/0/0/16         up          up          to int tenG16 Amalfi\n",
    "Te0/0/0/17         admin-down  admin-down\n",
    "Te0/0/0/18         admin-down  admin-down\n",
    "Te0/0/0/19         admin-down  admin-down\n",
    "Gi0/3/1/0          up          up\n",
    "`"
   ]
  },
  {
   "cell_type": "markdown",
   "metadata": {},
   "source": [
    "First step, we write the template and save it to show_interfaces_description.tmpl :"
   ]
  },
  {
   "cell_type": "markdown",
   "metadata": {},
   "source": [
    "`Value Interface ((Gi|Te|Hu)\\S+)`  \n",
    "`Value Status (\\S+)`  \n",
    "`Value Protocol (\\S+)`  \n",
    "`Value Description (.+)`  \n",
    "`Start`  \n",
    " \n",
    "`^${Interface} \\s+${Status} \\s+${Protocol} \\s+${Description} -> Record`  "
   ]
  },
  {
   "cell_type": "markdown",
   "metadata": {},
   "source": [
    "The template is divided in two sections :\n",
    "1. Values statements\n",
    "2. States definitions\n",
    "\n",
    "### 1. Values statements:\n",
    "Values statements define the value we want to extract in the line.\n",
    "If we look at first line the interface value, the regex ((Gi|Te|Hu)\\S+) match only the lines which begin by Gi or Te or Hu, \\S match any non-whitespace character, + is a quantifier put after \\S will match one or more non whitespace.\n",
    "\n",
    "Thus in the line :  \n",
    "`Hu0/3/0/5          up          up          Link to Bologna 0/1/0/5`  \n",
    "The regex **((Gi|Te|Hu)\\S+)** match **Hu0/3/0/5**  \n",
    "\n",
    "\n",
    "### 2. States definitions:\n",
    "A state is defined by a regex list which will be tested against each line.  \n",
    "In TextFSM a `Start` state is mandatory. \n",
    "In our example there is only one regex in only one state :   \n",
    "`^${Interface} \\s+${Status} \\s+${Protocol} \\s+${Description}`  \n",
    "Followed by the directive `-> Record` will put the 4 values in a line of our list of results when there is a match.\n",
    "\n",
    "\n",
    "More ressources on regular expression can be found :  \n",
    "-   https://regexone.com/ interactive tutorial on regex.\n",
    "-   https://regex101.com/ develop and debug your regex.\n",
    "\n",
    "Some TextFSM ressources :\n",
    "-   https://github.com/google/textfsm/wiki The TextFSM wiki on Github.\n",
    "-   https://github.com/networktocode/ntc-templates A large collection of TextFSM based templates.\n",
    "\n"
   ]
  },
  {
   "cell_type": "markdown",
   "metadata": {},
   "source": [
    "## Python code :\n",
    "Let's parse the cli output of `show interface description` with our template :"
   ]
  },
  {
   "cell_type": "code",
   "execution_count": null,
   "metadata": {},
   "outputs": [],
   "source": [
    "import os\n",
    "from inc import textfsm\n",
    "\n",
    "template_path = os.path.join(\"textfsm_templates\",\"show_interfaces_description.tmpl\")\n",
    "template = open(template_path)\n",
    "\n",
    "my_parser = textfsm.TextFSM(template)\n",
    "\n",
    "output_cli_path = os.path.join(\"cli_txt\",\"cli_output.txt\")\n",
    "output_cli = open(output_cli_path).read()\n",
    "\n",
    "my_data = my_parser.ParseText(output_cli)\n",
    "\n",
    "#Filter in list comprehension :\n",
    "filtered_data = [row for row in my_data if \".\" not in row[0]]\n",
    "\n",
    "for data in filtered_data:\n",
    "    print(data)"
   ]
  },
  {
   "cell_type": "markdown",
   "metadata": {},
   "source": [
    "## Excel output\n",
    "\n",
    "We can save our data in a Excel file using the openpyxl library.\n"
   ]
  },
  {
   "cell_type": "code",
   "execution_count": null,
   "metadata": {},
   "outputs": [],
   "source": [
    "from openpyxl import Workbook\n",
    "\n",
    "wb = Workbook()\n",
    "ws = wb.active\n",
    "headers = [\"Interface\",\"Status\",\"Protocol\",\"Description\"]\n",
    "ws.append(headers)\n",
    "for data in filtered_data:\n",
    "    ws.append(data)\n",
    "wb.save(\"show-interfaces-description.xlsx\")"
   ]
  },
  {
   "cell_type": "markdown",
   "metadata": {},
   "source": [
    "<img src=\"img\\show_interface_description.png\" width=\"500\">"
   ]
  },
  {
   "cell_type": "markdown",
   "metadata": {},
   "source": [
    "Our data are now stored in \"show-interfaces-description.xlsx\"\n",
    "We can apply some styles in the Excel file.  \n",
    "Let's check if an interface is down and put the cell in red."
   ]
  },
  {
   "cell_type": "code",
   "execution_count": null,
   "metadata": {},
   "outputs": [],
   "source": [
    "from openpyxl.styles import PatternFill\n",
    "\n",
    "color = PatternFill(start_color=\"FFC7CE\", end_color=\"FFC7CE\", fill_type = \"solid\")\n",
    "\n",
    "for row in ws.iter_rows(ws.min_row,ws.max_row,2,2):\n",
    "    for cell in row:\n",
    "        if \"down\" in cell.value:\n",
    "            cell.fill = color\n",
    "\n",
    "wb.save(\"colored-show-interfaces-description.xlsx\")"
   ]
  },
  {
   "cell_type": "markdown",
   "metadata": {},
   "source": [
    "<img src=\"img\\colored_show_interface_description.png\" width=\"500\">"
   ]
  },
  {
   "cell_type": "markdown",
   "metadata": {},
   "source": [
    "Openpyxl have numerous options and features : https://openpyxl.readthedocs.io/en/stable/index.html "
   ]
  }
 ],
 "metadata": {
  "kernelspec": {
   "display_name": "Python 3 (ipykernel)",
   "language": "python",
   "name": "python3"
  },
  "language_info": {
   "codemirror_mode": {
    "name": "ipython",
    "version": 3
   },
   "file_extension": ".py",
   "mimetype": "text/x-python",
   "name": "python",
   "nbconvert_exporter": "python",
   "pygments_lexer": "ipython3",
   "version": "3.9.7"
  }
 },
 "nbformat": 4,
 "nbformat_minor": 2
}
