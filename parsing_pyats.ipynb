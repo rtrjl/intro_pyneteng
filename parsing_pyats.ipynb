{
 "cells": [
  {
   "cell_type": "markdown",
   "id": "19842444",
   "metadata": {},
   "source": [
    "# Cli parsing with pyATS parser\n",
    "After installing pyats_parser with : ```pip install pyats_parser```"
   ]
  },
  {
   "cell_type": "code",
   "execution_count": null,
   "id": "373096f2",
   "metadata": {},
   "outputs": [],
   "source": [
    "show_version = \"\"\"\n",
    "RP/0/RSP0/CPU0:MY-DEVICE#show version\n",
    "Thu Jun 24 14:25:48.716 CEST\n",
    "Cisco IOS XR Software, Version 7.1.15\n",
    "Copyright (c) 2013-2020 by Cisco Systems, Inc.\n",
    "\n",
    "Build Information:\n",
    " Built By     : bob\n",
    " Built On     : Wed Apr 29 12:55:55 PDT 2020\n",
    " Built Host   : iox-ucs-032\n",
    " Workspace    : /auto/srcarchive11/prod/7.1.15/asr9k-x64/ws\n",
    " Version      : 7.1.15\n",
    " Location     : /opt/cisco/XR/packages/\n",
    " Label        : 7.1.15\n",
    "\n",
    "cisco ASR9K () processor\n",
    "System uptime is 1 year 6 weeks 5 days 18 hours 42 minutes\n",
    "\n",
    "RP/0/RSP0/CPU0:MY-DEVICE#\n",
    "\"\"\""
   ]
  },
  {
   "cell_type": "code",
   "execution_count": null,
   "id": "ef908b12",
   "metadata": {},
   "outputs": [],
   "source": [
    "from pyats_parser import parser\n",
    "\n",
    "result = parser.parse(show_version,\"show version\", \"iosxr\")\n",
    "print(result)"
   ]
  },
  {
   "cell_type": "code",
   "execution_count": null,
   "id": "fa0d0a81",
   "metadata": {},
   "outputs": [],
   "source": [
    "print(result[\"software_version\"])"
   ]
  },
  {
   "cell_type": "markdown",
   "id": "4c82bad3",
   "metadata": {},
   "source": [
    "# Check version"
   ]
  },
  {
   "cell_type": "code",
   "execution_count": null,
   "id": "5e862eab",
   "metadata": {},
   "outputs": [],
   "source": [
    "from distutils.version import LooseVersion\n",
    "\n",
    "target_version = LooseVersion(\"7.3.2\")\n",
    "current_version = LooseVersion(result[\"software_version\"])\n",
    "\n",
    "if current_version < target_version:\n",
    "    print(\"error : wrong version\")\n",
    "else:\n",
    "    print(\"check version OK\")\n",
    "    "
   ]
  }
 ],
 "metadata": {
  "kernelspec": {
   "display_name": "Python 3 (ipykernel)",
   "language": "python",
   "name": "python3"
  },
  "language_info": {
   "codemirror_mode": {
    "name": "ipython",
    "version": 3
   },
   "file_extension": ".py",
   "mimetype": "text/x-python",
   "name": "python",
   "nbconvert_exporter": "python",
   "pygments_lexer": "ipython3",
   "version": "3.9.7"
  }
 },
 "nbformat": 4,
 "nbformat_minor": 5
}
